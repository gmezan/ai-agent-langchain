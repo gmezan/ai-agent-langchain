{
 "cells": [
  {
   "cell_type": "markdown",
   "id": "f141138c",
   "metadata": {},
   "source": [
    "# Build a Chatbot\n",
    "* https://python.langchain.com/docs/tutorials/classification/"
   ]
  },
  {
   "cell_type": "markdown",
   "id": "a5a9f59c",
   "metadata": {},
   "source": []
  },
  {
   "cell_type": "code",
   "execution_count": null,
   "id": "ac445c55",
   "metadata": {},
   "outputs": [],
   "source": [
    "% pip install langchain-core langgraph>0.2.27"
   ]
  },
  {
   "cell_type": "code",
   "execution_count": null,
   "id": "d57aa1f8",
   "metadata": {},
   "outputs": [],
   "source": []
  }
 ],
 "metadata": {
  "kernelspec": {
   "display_name": ".venv",
   "language": "python",
   "name": "python3"
  },
  "language_info": {
   "name": "python",
   "version": "3.9.21"
  }
 },
 "nbformat": 4,
 "nbformat_minor": 5
}
